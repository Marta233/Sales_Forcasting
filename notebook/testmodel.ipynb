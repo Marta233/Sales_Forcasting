{
 "cells": [
  {
   "cell_type": "code",
   "execution_count": 1,
   "metadata": {},
   "outputs": [],
   "source": [
    "import pandas as pd\n",
    "import sys\n",
    "sys.path.insert(0, '/10 A KAI 2/Week 4/Sales_Forcasting/') \n",
    "from Scripts.test_model import TestSalesForecasting\n"
   ]
  },
  {
   "cell_type": "code",
   "execution_count": 2,
   "metadata": {},
   "outputs": [],
   "source": [
    "# Load the test data\n",
    "test_data = pd.read_csv(\"../Data/test.csv\")"
   ]
  },
  {
   "cell_type": "code",
   "execution_count": 3,
   "metadata": {},
   "outputs": [],
   "source": [
    "# Path to the saved model file\n",
    "model_filename = \"random_forest_model_2024-09-24-14-41-47.pkl\"  # Replace with actual file"
   ]
  },
  {
   "cell_type": "code",
   "execution_count": 4,
   "metadata": {},
   "outputs": [],
   "source": [
    "\n",
    "    # Create SalesForecasting instance\n",
    "model_tester = TestSalesForecasting()\n"
   ]
  },
  {
   "cell_type": "code",
   "execution_count": 5,
   "metadata": {},
   "outputs": [
    {
     "name": "stderr",
     "output_type": "stream",
     "text": [
      "2024-09-24 14:56:43,385 - INFO - Model loaded from random_forest_model_2024-09-24-14-41-47.pkl.\n",
      "2024-09-24 14:57:13,699 - INFO - Starting data preprocessing for 41088 rows and 8 columns.\n",
      "2024-09-24 14:57:15,627 - INFO - Descriptive statistics of the dataset:\n",
      "2024-09-24 14:57:15,642 - INFO -                  count                 mean                  min  \\\n",
      "Id             41088.0              20544.5                  1.0   \n",
      "Store          41088.0           555.899533                  1.0   \n",
      "DayOfWeek      41088.0             3.979167                  1.0   \n",
      "Date             41088  2015-08-24 12:00:00  2015-08-01 00:00:00   \n",
      "Open           41077.0             0.854322                  0.0   \n",
      "Promo          41088.0             0.395833                  0.0   \n",
      "SchoolHoliday  41088.0             0.443487                  0.0   \n",
      "\n",
      "                               25%                  50%                  75%  \\\n",
      "Id                        10272.75              20544.5             30816.25   \n",
      "Store                       279.75                553.5               832.25   \n",
      "DayOfWeek                      2.0                  4.0                  6.0   \n",
      "Date           2015-08-12 18:00:00  2015-08-24 12:00:00  2015-09-05 06:00:00   \n",
      "Open                           1.0                  1.0                  1.0   \n",
      "Promo                          0.0                  0.0                  1.0   \n",
      "SchoolHoliday                  0.0                  0.0                  1.0   \n",
      "\n",
      "                               max           std  \n",
      "Id                         41088.0  11861.228267  \n",
      "Store                       1115.0    320.274496  \n",
      "DayOfWeek                      7.0      2.015481  \n",
      "Date           2015-09-17 00:00:00           NaN  \n",
      "Open                           1.0      0.352787  \n",
      "Promo                          1.0      0.489035  \n",
      "SchoolHoliday                  1.0      0.496802  \n",
      "d:\\10 A KAI 2/Week 4/Sales_Forcasting\\Scripts\\Model_build.py:63: FutureWarning: A value is trying to be set on a copy of a DataFrame or Series through chained assignment using an inplace method.\n",
      "The behavior will change in pandas 3.0. This inplace method will never work because the intermediate object on which we are setting values always behaves as a copy.\n",
      "\n",
      "For example, when doing 'df[col].method(value, inplace=True)', try using 'df.method({col: value}, inplace=True)' or df[col] = df[col].method(value) instead, to perform the operation inplace on the original object.\n",
      "\n",
      "\n",
      "  self.data['DaysToNextHoliday'].fillna(self.data['DaysToNextHoliday'].mean(), inplace=True)\n",
      "d:\\10 A KAI 2/Week 4/Sales_Forcasting\\Scripts\\Model_build.py:64: FutureWarning: A value is trying to be set on a copy of a DataFrame or Series through chained assignment using an inplace method.\n",
      "The behavior will change in pandas 3.0. This inplace method will never work because the intermediate object on which we are setting values always behaves as a copy.\n",
      "\n",
      "For example, when doing 'df[col].method(value, inplace=True)', try using 'df.method({col: value}, inplace=True)' or df[col] = df[col].method(value) instead, to perform the operation inplace on the original object.\n",
      "\n",
      "\n",
      "  self.data['DaysAfterLastHoliday'].fillna(self.data['DaysAfterLastHoliday'].mean(), inplace=True)\n"
     ]
    }
   ],
   "source": [
    "predictions = model_tester.run_random_forest_predictions(test_data, model_filename)"
   ]
  },
  {
   "cell_type": "code",
   "execution_count": 6,
   "metadata": {},
   "outputs": [
    {
     "name": "stdout",
     "output_type": "stream",
     "text": [
      "          Id  Predicted_Sales\n",
      "0          1      5249.500000\n",
      "1          2      7862.760000\n",
      "2          3      8342.520000\n",
      "3          4      6595.940000\n",
      "4          5      6088.020000\n",
      "...      ...              ...\n",
      "41083  41084      3173.788000\n",
      "41084  41085      7645.551024\n",
      "41085  41086      5567.290000\n",
      "41086  41087     20781.138667\n",
      "41087  41088      5703.740000\n",
      "\n",
      "[41088 rows x 2 columns]\n"
     ]
    }
   ],
   "source": [
    "print( predictions)"
   ]
  },
  {
   "cell_type": "code",
   "execution_count": null,
   "metadata": {},
   "outputs": [],
   "source": []
  }
 ],
 "metadata": {
  "kernelspec": {
   "display_name": "myenv",
   "language": "python",
   "name": "python3"
  },
  "language_info": {
   "codemirror_mode": {
    "name": "ipython",
    "version": 3
   },
   "file_extension": ".py",
   "mimetype": "text/x-python",
   "name": "python",
   "nbconvert_exporter": "python",
   "pygments_lexer": "ipython3",
   "version": "3.11.2"
  }
 },
 "nbformat": 4,
 "nbformat_minor": 2
}
